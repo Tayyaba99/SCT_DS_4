{
  "nbformat": 4,
  "nbformat_minor": 0,
  "metadata": {
    "colab": {
      "provenance": []
    },
    "kernelspec": {
      "name": "python3",
      "display_name": "Python 3"
    },
    "language_info": {
      "name": "python"
    }
  },
  "cells": [
    {
      "cell_type": "code",
      "source": [
        "import pandas as pd\n",
        "\n",
        "# Replace with your actual file path if you downloaded the file manually\n",
        "data = pd.read_csv('Motor_Vehicle_Collisions_-_Crashes.csv')\n",
        "\n",
        "# Display the first few rows and column names\n",
        "print(data.head())\n",
        "print(data.columns)\n",
        "\n"
      ],
      "metadata": {
        "colab": {
          "base_uri": "https://localhost:8080/"
        },
        "id": "Mu3uGfliGD1C",
        "outputId": "955f23f8-28a2-40d3-c930-0edd69a0e3ec"
      },
      "execution_count": 11,
      "outputs": [
        {
          "output_type": "stream",
          "name": "stdout",
          "text": [
            "   CRASH DATE CRASH TIME   BOROUGH  ZIP CODE   LATITUDE  LONGITUDE  \\\n",
            "0  09/11/2021       2:39       NaN       NaN        NaN        NaN   \n",
            "1  03/26/2022      11:45       NaN       NaN        NaN        NaN   \n",
            "2  06/29/2022       6:55       NaN       NaN        NaN        NaN   \n",
            "3  09/11/2021       9:35  BROOKLYN   11208.0  40.667202 -73.866500   \n",
            "4  12/14/2021       8:13  BROOKLYN   11233.0  40.683304 -73.917274   \n",
            "\n",
            "                  LOCATION           ON STREET NAME CROSS STREET NAME  \\\n",
            "0                      NaN    WHITESTONE EXPRESSWAY         20 AVENUE   \n",
            "1                      NaN  QUEENSBORO BRIDGE UPPER               NaN   \n",
            "2                      NaN       THROGS NECK BRIDGE               NaN   \n",
            "3    (40.667202, -73.8665)                      NaN               NaN   \n",
            "4  (40.683304, -73.917274)          SARATOGA AVENUE    DECATUR STREET   \n",
            "\n",
            "           OFF STREET NAME  ...  CONTRIBUTING FACTOR VEHICLE 2  \\\n",
            "0                      NaN  ...                    Unspecified   \n",
            "1                      NaN  ...                            NaN   \n",
            "2                      NaN  ...                    Unspecified   \n",
            "3  1211      LORING AVENUE  ...                            NaN   \n",
            "4                      NaN  ...                            NaN   \n",
            "\n",
            "   CONTRIBUTING FACTOR VEHICLE 3  CONTRIBUTING FACTOR VEHICLE 4  \\\n",
            "0                            NaN                            NaN   \n",
            "1                            NaN                            NaN   \n",
            "2                            NaN                            NaN   \n",
            "3                            NaN                            NaN   \n",
            "4                            NaN                            NaN   \n",
            "\n",
            "   CONTRIBUTING FACTOR VEHICLE 5  COLLISION_ID  VEHICLE TYPE CODE 1  \\\n",
            "0                            NaN     4455765.0                Sedan   \n",
            "1                            NaN     4513547.0                Sedan   \n",
            "2                            NaN     4541903.0                Sedan   \n",
            "3                            NaN     4456314.0                Sedan   \n",
            "4                            NaN     4486609.0                  NaN   \n",
            "\n",
            "   VEHICLE TYPE CODE 2  VEHICLE TYPE CODE 3 VEHICLE TYPE CODE 4  \\\n",
            "0                Sedan                  NaN                 NaN   \n",
            "1                  NaN                  NaN                 NaN   \n",
            "2        Pick-up Truck                  NaN                 NaN   \n",
            "3                  NaN                  NaN                 NaN   \n",
            "4                  NaN                  NaN                 NaN   \n",
            "\n",
            "  VEHICLE TYPE CODE 5  \n",
            "0                 NaN  \n",
            "1                 NaN  \n",
            "2                 NaN  \n",
            "3                 NaN  \n",
            "4                 NaN  \n",
            "\n",
            "[5 rows x 29 columns]\n",
            "Index(['CRASH DATE', 'CRASH TIME', 'BOROUGH', 'ZIP CODE', 'LATITUDE',\n",
            "       'LONGITUDE', 'LOCATION', 'ON STREET NAME', 'CROSS STREET NAME',\n",
            "       'OFF STREET NAME', 'NUMBER OF PERSONS INJURED',\n",
            "       'NUMBER OF PERSONS KILLED', 'NUMBER OF PEDESTRIANS INJURED',\n",
            "       'NUMBER OF PEDESTRIANS KILLED', 'NUMBER OF CYCLIST INJURED',\n",
            "       'NUMBER OF CYCLIST KILLED', 'NUMBER OF MOTORIST INJURED',\n",
            "       'NUMBER OF MOTORIST KILLED', 'CONTRIBUTING FACTOR VEHICLE 1',\n",
            "       'CONTRIBUTING FACTOR VEHICLE 2', 'CONTRIBUTING FACTOR VEHICLE 3',\n",
            "       'CONTRIBUTING FACTOR VEHICLE 4', 'CONTRIBUTING FACTOR VEHICLE 5',\n",
            "       'COLLISION_ID', 'VEHICLE TYPE CODE 1', 'VEHICLE TYPE CODE 2',\n",
            "       'VEHICLE TYPE CODE 3', 'VEHICLE TYPE CODE 4', 'VEHICLE TYPE CODE 5'],\n",
            "      dtype='object')\n"
          ]
        }
      ]
    },
    {
      "cell_type": "code",
      "source": [
        "# Check for missing values\n",
        "print(data.isnull().sum())\n",
        "\n",
        "# Drop rows with missing critical columns or fill them if appropriate\n",
        "data = data.dropna(subset=['LATITUDE', 'LONGITUDE', 'LOCATION'])\n"
      ],
      "metadata": {
        "colab": {
          "base_uri": "https://localhost:8080/"
        },
        "id": "CSI9QOY-I68f",
        "outputId": "11ccf73e-c81f-4f3f-82bf-1f1fbf4641b3"
      },
      "execution_count": 15,
      "outputs": [
        {
          "output_type": "stream",
          "name": "stdout",
          "text": [
            "CRASH DATE                            0\n",
            "CRASH TIME                            0\n",
            "BOROUGH                           49442\n",
            "ZIP CODE                          49459\n",
            "LATITUDE                          12293\n",
            "LONGITUDE                         12293\n",
            "LOCATION                          12293\n",
            "ON STREET NAME                    39360\n",
            "CROSS STREET NAME                 77484\n",
            "OFF STREET NAME                  105243\n",
            "NUMBER OF PERSONS INJURED             0\n",
            "NUMBER OF PERSONS KILLED              0\n",
            "NUMBER OF PEDESTRIANS INJURED         1\n",
            "NUMBER OF PEDESTRIANS KILLED          1\n",
            "NUMBER OF CYCLIST INJURED             1\n",
            "NUMBER OF CYCLIST KILLED              1\n",
            "NUMBER OF MOTORIST INJURED            1\n",
            "NUMBER OF MOTORIST KILLED             1\n",
            "CONTRIBUTING FACTOR VEHICLE 1       750\n",
            "CONTRIBUTING FACTOR VEHICLE 2     32697\n",
            "CONTRIBUTING FACTOR VEHICLE 3    130056\n",
            "CONTRIBUTING FACTOR VEHICLE 4    140664\n",
            "CONTRIBUTING FACTOR VEHICLE 5    143414\n",
            "COLLISION_ID                          1\n",
            "VEHICLE TYPE CODE 1                1772\n",
            "VEHICLE TYPE CODE 2               48121\n",
            "VEHICLE TYPE CODE 3              131105\n",
            "VEHICLE TYPE CODE 4              140890\n",
            "VEHICLE TYPE CODE 5              143460\n",
            "dtype: int64\n"
          ]
        }
      ]
    },
    {
      "cell_type": "code",
      "source": [
        "# Verify the presence of these columns\n",
        "print(data.columns)\n",
        "\n",
        "# Example analysis if columns are present\n",
        "if 'ROAD_CONDITION' in data.columns:\n",
        "    road_condition_stats = data['ROAD_CONDITION'].value_counts()\n",
        "    print(road_condition_stats)\n",
        "\n",
        "if 'WEATHER' in data.columns:\n",
        "    weather_condition_stats = data['WEATHER'].value_counts()\n",
        "    print(weather_condition_stats)\n"
      ],
      "metadata": {
        "colab": {
          "base_uri": "https://localhost:8080/"
        },
        "id": "r1kYYhUXJ7i9",
        "outputId": "67d612b9-816a-4172-81bd-e1dee80865e1"
      },
      "execution_count": 17,
      "outputs": [
        {
          "output_type": "stream",
          "name": "stdout",
          "text": [
            "Index(['CRASH DATE', 'CRASH TIME', 'BOROUGH', 'ZIP CODE', 'LATITUDE',\n",
            "       'LONGITUDE', 'LOCATION', 'ON STREET NAME', 'CROSS STREET NAME',\n",
            "       'OFF STREET NAME', 'NUMBER OF PERSONS INJURED',\n",
            "       'NUMBER OF PERSONS KILLED', 'NUMBER OF PEDESTRIANS INJURED',\n",
            "       'NUMBER OF PEDESTRIANS KILLED', 'NUMBER OF CYCLIST INJURED',\n",
            "       'NUMBER OF CYCLIST KILLED', 'NUMBER OF MOTORIST INJURED',\n",
            "       'NUMBER OF MOTORIST KILLED', 'CONTRIBUTING FACTOR VEHICLE 1',\n",
            "       'CONTRIBUTING FACTOR VEHICLE 2', 'CONTRIBUTING FACTOR VEHICLE 3',\n",
            "       'CONTRIBUTING FACTOR VEHICLE 4', 'CONTRIBUTING FACTOR VEHICLE 5',\n",
            "       'COLLISION_ID', 'VEHICLE TYPE CODE 1', 'VEHICLE TYPE CODE 2',\n",
            "       'VEHICLE TYPE CODE 3', 'VEHICLE TYPE CODE 4', 'VEHICLE TYPE CODE 5'],\n",
            "      dtype='object')\n"
          ]
        }
      ]
    },
    {
      "cell_type": "code",
      "source": [
        "import folium\n",
        "\n",
        "# Initialize a map centered around the mean latitude and longitude\n",
        "m = folium.Map(location=[data['LATITUDE'].mean(), data['LONGITUDE'].mean()], zoom_start=12)\n",
        "\n",
        "# Add markers for each accident location\n",
        "for _, row in data.iterrows():\n",
        "    folium.CircleMarker(\n",
        "        location=[row['LATITUDE'], row['LONGITUDE']],\n",
        "        radius=3,\n",
        "        color='red',\n",
        "        fill=True,\n",
        "        fill_color='red',\n",
        "        fill_opacity=0.6\n",
        "    ).add_to(m)\n",
        "\n",
        "# Save the map to an HTML file\n",
        "m.save('accident_hotspots.html')\n"
      ],
      "metadata": {
        "id": "SA0b-_s5KAqQ"
      },
      "execution_count": 18,
      "outputs": []
    },
    {
      "cell_type": "code",
      "source": [
        "# Ensure time column is in datetime format\n",
        "data['CRASH TIME'] = pd.to_datetime(data['CRASH TIME'], errors='coerce')\n",
        "\n",
        "# Extract the hour of the day\n",
        "data['CRASH HOUR'] = data['CRASH TIME'].dt.hour\n",
        "\n",
        "# Count accidents by hour\n",
        "time_of_day_stats = data['CRASH HOUR'].value_counts().sort_index()\n",
        "print(time_of_day_stats)\n"
      ],
      "metadata": {
        "colab": {
          "base_uri": "https://localhost:8080/"
        },
        "id": "fqVGp4vpKjaB",
        "outputId": "98b93564-db78-4c49-9e14-4f4b485db98b"
      },
      "execution_count": 20,
      "outputs": [
        {
          "output_type": "stream",
          "name": "stdout",
          "text": [
            "CRASH HOUR\n",
            "0     6062\n",
            "1     3309\n",
            "2     2730\n",
            "3     2456\n",
            "4     2624\n",
            "5     2578\n",
            "6     3437\n",
            "7     4433\n",
            "8     6541\n",
            "9     5790\n",
            "10    5693\n",
            "11    6027\n",
            "12    6535\n",
            "13    6633\n",
            "14    7829\n",
            "15    8221\n",
            "16    8384\n",
            "17    8447\n",
            "18    7530\n",
            "19    6533\n",
            "20    5607\n",
            "21    5266\n",
            "22    5034\n",
            "23    4609\n",
            "Name: count, dtype: int64\n"
          ]
        },
        {
          "output_type": "stream",
          "name": "stderr",
          "text": [
            "<ipython-input-20-5a77cdab41be>:2: UserWarning: Could not infer format, so each element will be parsed individually, falling back to `dateutil`. To ensure parsing is consistent and as-expected, please specify a format.\n",
            "  data['CRASH TIME'] = pd.to_datetime(data['CRASH TIME'], errors='coerce')\n"
          ]
        }
      ]
    },
    {
      "cell_type": "code",
      "source": [
        "import seaborn as sns\n",
        "import matplotlib.pyplot as plt\n",
        "\n",
        "# Plot accidents by hour of the day\n",
        "plt.figure(figsize=(10, 6))\n",
        "sns.countplot(x='CRASH HOUR', data=data, palette='viridis')\n",
        "plt.title('Accidents by Hour of the Day')\n",
        "plt.xlabel('Hour of the Day')\n",
        "plt.ylabel('Number of Accidents')\n",
        "plt.show()\n"
      ],
      "metadata": {
        "colab": {
          "base_uri": "https://localhost:8080/",
          "height": 669
        },
        "id": "elkocJ36KqBQ",
        "outputId": "5ae05d28-4c29-48a6-c22a-678b6d81032f"
      },
      "execution_count": 22,
      "outputs": [
        {
          "output_type": "stream",
          "name": "stderr",
          "text": [
            "<ipython-input-22-6760c03d090e>:6: FutureWarning: \n",
            "\n",
            "Passing `palette` without assigning `hue` is deprecated and will be removed in v0.14.0. Assign the `x` variable to `hue` and set `legend=False` for the same effect.\n",
            "\n",
            "  sns.countplot(x='CRASH HOUR', data=data, palette='viridis')\n"
          ]
        },
        {
          "output_type": "display_data",
          "data": {
            "text/plain": [
              "<Figure size 1000x600 with 1 Axes>"
            ],
            "image/png": "[encoded data removed]"
          },
          "metadata": {}
        }
      ]
    },
    {
      "cell_type": "code",
      "source": [],
      "metadata": {
        "id": "puUK0JqWKp8e"
      },
      "execution_count": null,
      "outputs": []
    }
  ]
}